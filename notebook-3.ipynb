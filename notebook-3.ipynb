{
 "cells": [
  {
   "cell_type": "markdown",
   "metadata": {},
   "source": [
    "# Python and R"
   ]
  },
  {
   "cell_type": "code",
   "execution_count": 1,
   "metadata": {},
   "outputs": [
    {
     "name": "stderr",
     "output_type": "stream",
     "text": [
      "During startup - Warning messages:\n",
      "1: Setting LC_COLLATE failed, using \"C\" \n",
      "2: Setting LC_TIME failed, using \"C\" \n",
      "3: Setting LC_MESSAGES failed, using \"C\" \n",
      "4: Setting LC_MONETARY failed, using \"C\" \n"
     ]
    }
   ],
   "source": [
    "%load_ext rpy2.ipython\n",
    "%load_ext autoreload\n",
    "%autoreload 2\n",
    "\n",
    "%matplotlib inline  \n",
    "from matplotlib import rcParams\n",
    "rcParams['figure.figsize'] = (16, 100)\n",
    "\n",
    "import warnings\n",
    "from rpy2.rinterface import RRuntimeWarning\n",
    "warnings.filterwarnings(\"ignore\") # Ignore all warnings\n",
    "# warnings.filterwarnings(\"ignore\", category=RRuntimeWarning) # Show some warnings\n",
    "\n",
    "import pandas as pd\n",
    "import numpy as np\n",
    "import matplotlib.pyplot as plt\n",
    "from IPython.display import display, HTML\n",
    "\n",
    "# show all columns on pandas dataframes\n",
    "pd.set_option('display.max_columns', None)\n"
   ]
  },
  {
   "cell_type": "code",
   "execution_count": 2,
   "metadata": {},
   "outputs": [
    {
     "data": {
      "application/javascript": [
       "// Disable auto-scrolling\n",
       "IPython.OutputArea.prototype._should_scroll = function(lines) {\n",
       "    return false;\n",
       "}\n"
      ],
      "text/plain": [
       "<IPython.core.display.Javascript object>"
      ]
     },
     "metadata": {},
     "output_type": "display_data"
    }
   ],
   "source": [
    "%%javascript\n",
    "// Disable auto-scrolling\n",
    "IPython.OutputArea.prototype._should_scroll = function(lines) {\n",
    "    return false;\n",
    "}"
   ]
  },
  {
   "cell_type": "code",
   "execution_count": 3,
   "metadata": {},
   "outputs": [
    {
     "name": "stderr",
     "output_type": "stream",
     "text": [
      "R[write to console]: Loading required package: tidyverse\n",
      "\n"
     ]
    },
    {
     "name": "stdout",
     "output_type": "stream",
     "text": [
      "── Attaching packages ─────────────────────────────────────── tidyverse 1.3.2 ──\n",
      "✔ ggplot2 3.4.0      ✔ purrr   0.3.5 \n",
      "✔ tibble  3.1.8      ✔ dplyr   1.0.10\n",
      "✔ tidyr   1.2.1      ✔ stringr 1.4.1 \n",
      "✔ readr   2.1.3      ✔ forcats 0.5.2 \n",
      "── Conflicts ────────────────────────────────────────── tidyverse_conflicts() ──\n",
      "✖ dplyr::filter() masks stats::filter()\n",
      "✖ dplyr::lag()    masks stats::lag()\n"
     ]
    }
   ],
   "source": [
    "%%R\n",
    "\n",
    "# My commonly used R imports\n",
    "\n",
    "require('tidyverse')\n"
   ]
  },
  {
   "cell_type": "markdown",
   "metadata": {},
   "source": [
    "\n",
    "# Read the data\n",
    "\n"
   ]
  },
  {
   "cell_type": "markdown",
   "metadata": {},
   "source": [
    "The cell below loads the data in python:"
   ]
  },
  {
   "cell_type": "code",
   "execution_count": 4,
   "metadata": {},
   "outputs": [
    {
     "data": {
      "text/html": [
       "<div>\n",
       "<style scoped>\n",
       "    .dataframe tbody tr th:only-of-type {\n",
       "        vertical-align: middle;\n",
       "    }\n",
       "\n",
       "    .dataframe tbody tr th {\n",
       "        vertical-align: top;\n",
       "    }\n",
       "\n",
       "    .dataframe thead th {\n",
       "        text-align: right;\n",
       "    }\n",
       "</style>\n",
       "<table border=\"1\" class=\"dataframe\">\n",
       "  <thead>\n",
       "    <tr style=\"text-align: right;\">\n",
       "      <th></th>\n",
       "      <th>poll_id</th>\n",
       "      <th>question_id</th>\n",
       "      <th>race_id</th>\n",
       "      <th>year</th>\n",
       "      <th>race</th>\n",
       "      <th>location</th>\n",
       "      <th>type_simple</th>\n",
       "      <th>type_detail</th>\n",
       "      <th>pollster</th>\n",
       "      <th>pollster_rating_id</th>\n",
       "      <th>methodology</th>\n",
       "      <th>partisan</th>\n",
       "      <th>polldate</th>\n",
       "      <th>samplesize</th>\n",
       "      <th>cand1_name</th>\n",
       "      <th>cand1_id</th>\n",
       "      <th>cand1_party</th>\n",
       "      <th>cand1_pct</th>\n",
       "      <th>cand2_name</th>\n",
       "      <th>cand2_id</th>\n",
       "      <th>cand2_party</th>\n",
       "      <th>cand2_pct</th>\n",
       "      <th>cand3_pct</th>\n",
       "      <th>margin_poll</th>\n",
       "      <th>electiondate</th>\n",
       "      <th>cand1_actual</th>\n",
       "      <th>cand2_actual</th>\n",
       "      <th>margin_actual</th>\n",
       "      <th>bias</th>\n",
       "      <th>rightcall</th>\n",
       "      <th>comment</th>\n",
       "    </tr>\n",
       "  </thead>\n",
       "  <tbody>\n",
       "    <tr>\n",
       "      <th>6240</th>\n",
       "      <td>30334</td>\n",
       "      <td>36486</td>\n",
       "      <td>662</td>\n",
       "      <td>2012</td>\n",
       "      <td>2012_Pres-G_FL</td>\n",
       "      <td>FL</td>\n",
       "      <td>Pres-G</td>\n",
       "      <td>Pres-G</td>\n",
       "      <td>Susquehanna Polling &amp; Research Inc.</td>\n",
       "      <td>326</td>\n",
       "      <td>Live Phone</td>\n",
       "      <td>NaN</td>\n",
       "      <td>10/23/12</td>\n",
       "      <td>1001.0</td>\n",
       "      <td>Barack Obama</td>\n",
       "      <td>16</td>\n",
       "      <td>DEM</td>\n",
       "      <td>46.0</td>\n",
       "      <td>Mitt Romney</td>\n",
       "      <td>9</td>\n",
       "      <td>REP</td>\n",
       "      <td>51.0</td>\n",
       "      <td>NaN</td>\n",
       "      <td>-5.0</td>\n",
       "      <td>11/6/12</td>\n",
       "      <td>50.01</td>\n",
       "      <td>49.13</td>\n",
       "      <td>0.88</td>\n",
       "      <td>-5.88</td>\n",
       "      <td>0.0</td>\n",
       "      <td>for Sunshine State News</td>\n",
       "    </tr>\n",
       "    <tr>\n",
       "      <th>7341</th>\n",
       "      <td>34339</td>\n",
       "      <td>42033</td>\n",
       "      <td>1237</td>\n",
       "      <td>2014</td>\n",
       "      <td>2014_Gov-G_NY</td>\n",
       "      <td>NY</td>\n",
       "      <td>Gov-G</td>\n",
       "      <td>Gov-G</td>\n",
       "      <td>Marist College</td>\n",
       "      <td>183</td>\n",
       "      <td>Live Phone</td>\n",
       "      <td>NaN</td>\n",
       "      <td>10/27/14</td>\n",
       "      <td>503.0</td>\n",
       "      <td>Andrew Cuomo</td>\n",
       "      <td>8663</td>\n",
       "      <td>DEM</td>\n",
       "      <td>56.0</td>\n",
       "      <td>Robert P. Astorino</td>\n",
       "      <td>8871</td>\n",
       "      <td>REP</td>\n",
       "      <td>30.0</td>\n",
       "      <td>6.0</td>\n",
       "      <td>26.0</td>\n",
       "      <td>11/4/14</td>\n",
       "      <td>54.28</td>\n",
       "      <td>40.31</td>\n",
       "      <td>13.96</td>\n",
       "      <td>12.04</td>\n",
       "      <td>1.0</td>\n",
       "      <td>for Wall Street Journal | NBC 4 New York</td>\n",
       "    </tr>\n",
       "    <tr>\n",
       "      <th>9188</th>\n",
       "      <td>56577</td>\n",
       "      <td>91067</td>\n",
       "      <td>162</td>\n",
       "      <td>2018</td>\n",
       "      <td>2018_Gov-G_TN</td>\n",
       "      <td>TN</td>\n",
       "      <td>Gov-G</td>\n",
       "      <td>Gov-G</td>\n",
       "      <td>Marist College</td>\n",
       "      <td>183</td>\n",
       "      <td>Live Phone</td>\n",
       "      <td>NaN</td>\n",
       "      <td>10/25/18</td>\n",
       "      <td>471.0</td>\n",
       "      <td>Karl F. Dean</td>\n",
       "      <td>11380</td>\n",
       "      <td>DEM</td>\n",
       "      <td>40.0</td>\n",
       "      <td>Bill Lee</td>\n",
       "      <td>11381</td>\n",
       "      <td>REP</td>\n",
       "      <td>57.0</td>\n",
       "      <td>NaN</td>\n",
       "      <td>-17.0</td>\n",
       "      <td>11/6/18</td>\n",
       "      <td>38.55</td>\n",
       "      <td>59.56</td>\n",
       "      <td>-21.01</td>\n",
       "      <td>4.01</td>\n",
       "      <td>1.0</td>\n",
       "      <td>for NBC News</td>\n",
       "    </tr>\n",
       "    <tr>\n",
       "      <th>664</th>\n",
       "      <td>6387</td>\n",
       "      <td>117973</td>\n",
       "      <td>2513</td>\n",
       "      <td>2000</td>\n",
       "      <td>2000_House-G_MT-1</td>\n",
       "      <td>MT-1</td>\n",
       "      <td>House-G</td>\n",
       "      <td>House-G</td>\n",
       "      <td>Mason-Dixon Polling &amp; Strategy</td>\n",
       "      <td>197</td>\n",
       "      <td>Live Phone</td>\n",
       "      <td>NaN</td>\n",
       "      <td>10/24/00</td>\n",
       "      <td>628.0</td>\n",
       "      <td>Nancy Keenan</td>\n",
       "      <td>14031</td>\n",
       "      <td>DEM</td>\n",
       "      <td>43.0</td>\n",
       "      <td>Denny Rehberg</td>\n",
       "      <td>14032</td>\n",
       "      <td>REP</td>\n",
       "      <td>46.0</td>\n",
       "      <td>NaN</td>\n",
       "      <td>-3.0</td>\n",
       "      <td>11/7/00</td>\n",
       "      <td>46.28</td>\n",
       "      <td>51.50</td>\n",
       "      <td>-5.22</td>\n",
       "      <td>2.22</td>\n",
       "      <td>1.0</td>\n",
       "      <td>NaN</td>\n",
       "    </tr>\n",
       "    <tr>\n",
       "      <th>3297</th>\n",
       "      <td>3021</td>\n",
       "      <td>3683</td>\n",
       "      <td>7333</td>\n",
       "      <td>2008</td>\n",
       "      <td>2008_Pres-R_NH</td>\n",
       "      <td>NH</td>\n",
       "      <td>Pres-P</td>\n",
       "      <td>Pres-R</td>\n",
       "      <td>Research 2000</td>\n",
       "      <td>281</td>\n",
       "      <td>Live Phone</td>\n",
       "      <td>NaN</td>\n",
       "      <td>1/5/08</td>\n",
       "      <td>400.0</td>\n",
       "      <td>John McCain</td>\n",
       "      <td>44</td>\n",
       "      <td>REP</td>\n",
       "      <td>35.0</td>\n",
       "      <td>Mitt Romney</td>\n",
       "      <td>48</td>\n",
       "      <td>REP</td>\n",
       "      <td>29.0</td>\n",
       "      <td>13.0</td>\n",
       "      <td>6.0</td>\n",
       "      <td>1/8/08</td>\n",
       "      <td>37.00</td>\n",
       "      <td>31.56</td>\n",
       "      <td>5.44</td>\n",
       "      <td>NaN</td>\n",
       "      <td>1.0</td>\n",
       "      <td>NaN</td>\n",
       "    </tr>\n",
       "  </tbody>\n",
       "</table>\n",
       "</div>"
      ],
      "text/plain": [
       "      poll_id  question_id  race_id  year               race location  \\\n",
       "6240    30334        36486      662  2012     2012_Pres-G_FL       FL   \n",
       "7341    34339        42033     1237  2014      2014_Gov-G_NY       NY   \n",
       "9188    56577        91067      162  2018      2018_Gov-G_TN       TN   \n",
       "664      6387       117973     2513  2000  2000_House-G_MT-1     MT-1   \n",
       "3297     3021         3683     7333  2008     2008_Pres-R_NH       NH   \n",
       "\n",
       "     type_simple type_detail                             pollster  \\\n",
       "6240      Pres-G      Pres-G  Susquehanna Polling & Research Inc.   \n",
       "7341       Gov-G       Gov-G                       Marist College   \n",
       "9188       Gov-G       Gov-G                       Marist College   \n",
       "664      House-G     House-G       Mason-Dixon Polling & Strategy   \n",
       "3297      Pres-P      Pres-R                        Research 2000   \n",
       "\n",
       "      pollster_rating_id methodology partisan  polldate  samplesize  \\\n",
       "6240                 326  Live Phone      NaN  10/23/12      1001.0   \n",
       "7341                 183  Live Phone      NaN  10/27/14       503.0   \n",
       "9188                 183  Live Phone      NaN  10/25/18       471.0   \n",
       "664                  197  Live Phone      NaN  10/24/00       628.0   \n",
       "3297                 281  Live Phone      NaN    1/5/08       400.0   \n",
       "\n",
       "        cand1_name  cand1_id cand1_party  cand1_pct          cand2_name  \\\n",
       "6240  Barack Obama        16         DEM       46.0         Mitt Romney   \n",
       "7341  Andrew Cuomo      8663         DEM       56.0  Robert P. Astorino   \n",
       "9188  Karl F. Dean     11380         DEM       40.0            Bill Lee   \n",
       "664   Nancy Keenan     14031         DEM       43.0       Denny Rehberg   \n",
       "3297   John McCain        44         REP       35.0         Mitt Romney   \n",
       "\n",
       "      cand2_id cand2_party  cand2_pct  cand3_pct  margin_poll electiondate  \\\n",
       "6240         9         REP       51.0        NaN         -5.0      11/6/12   \n",
       "7341      8871         REP       30.0        6.0         26.0      11/4/14   \n",
       "9188     11381         REP       57.0        NaN        -17.0      11/6/18   \n",
       "664      14032         REP       46.0        NaN         -3.0      11/7/00   \n",
       "3297        48         REP       29.0       13.0          6.0       1/8/08   \n",
       "\n",
       "      cand1_actual  cand2_actual  margin_actual   bias  rightcall  \\\n",
       "6240         50.01         49.13           0.88  -5.88        0.0   \n",
       "7341         54.28         40.31          13.96  12.04        1.0   \n",
       "9188         38.55         59.56         -21.01   4.01        1.0   \n",
       "664          46.28         51.50          -5.22   2.22        1.0   \n",
       "3297         37.00         31.56           5.44    NaN        1.0   \n",
       "\n",
       "                                       comment  \n",
       "6240                   for Sunshine State News  \n",
       "7341  for Wall Street Journal | NBC 4 New York  \n",
       "9188                              for NBC News  \n",
       "664                                        NaN  \n",
       "3297                                       NaN  "
      ]
     },
     "execution_count": 4,
     "metadata": {},
     "output_type": "execute_result"
    }
   ],
   "source": [
    "df = pd.read_csv('raw-polls.csv')\n",
    "df.sample(5)"
   ]
  },
  {
   "cell_type": "markdown",
   "metadata": {},
   "source": [
    "The cell below loads the same data in R:"
   ]
  },
  {
   "cell_type": "code",
   "execution_count": 5,
   "metadata": {},
   "outputs": [
    {
     "name": "stdout",
     "output_type": "stream",
     "text": [
      "Rows: 10776 Columns: 31\n",
      "── Column specification ────────────────────────────────────────────────────────\n",
      "Delimiter: \",\"\n",
      "chr (14): race, location, type_simple, type_detail, pollster, methodology, p...\n",
      "dbl (17): poll_id, question_id, race_id, year, pollster_rating_id, samplesiz...\n",
      "\n",
      "ℹ Use `spec()` to retrieve the full column specification for this data.\n",
      "ℹ Specify the column types or set `show_col_types = FALSE` to quiet this message.\n",
      "# A tibble: 10,776 × 31\n",
      "   poll_id questio…¹ race_id  year race  locat…² type_…³ type_…⁴ polls…⁵ polls…⁶\n",
      "     <dbl>     <dbl>   <dbl> <dbl> <chr> <chr>   <chr>   <chr>   <chr>     <dbl>\n",
      " 1   26013     87909    1455  1998 1998… NY      Gov-G   Gov-G   Blum &…      32\n",
      " 2   26255     87926    1456  1998 1998… OH      Gov-G   Gov-G   Univer…     346\n",
      " 3   26026     31266    1736  1998 1998… NV      Sen-G   Sen-G   FM3 Re…      91\n",
      " 4   26013     31253    1738  1998 1998… NY      Sen-G   Sen-G   Blum &…      32\n",
      " 5   63632    117103    1738  1998 1998… NY      Sen-G   Sen-G   Garin-…     113\n",
      " 6   26255     31495    1741  1998 1998… OH      Sen-G   Sen-G   Univer…     346\n",
      " 7   64053    117875    1966  1998 1998… ID-1    House-G House-G Garin-…     113\n",
      " 8   64053    117876    1967  1998 1998… ID-2    House-G House-G Garin-…     113\n",
      " 9   28268     33546    8661  1998 1998… US      House-G House-G CBS Ne…      36\n",
      "10   28267     33545    8661  1998 1998… US      House-G House-G Zogby …     395\n",
      "# … with 10,766 more rows, 21 more variables: methodology <chr>,\n",
      "#   partisan <chr>, polldate <chr>, samplesize <dbl>, cand1_name <chr>,\n",
      "#   cand1_id <dbl>, cand1_party <chr>, cand1_pct <dbl>, cand2_name <chr>,\n",
      "#   cand2_id <dbl>, cand2_party <chr>, cand2_pct <dbl>, cand3_pct <dbl>,\n",
      "#   margin_poll <dbl>, electiondate <chr>, cand1_actual <dbl>,\n",
      "#   cand2_actual <dbl>, margin_actual <dbl>, bias <dbl>, rightcall <dbl>,\n",
      "#   comment <chr>, and abbreviated variable names ¹​question_id, ²​location, …\n",
      "# ℹ Use `print(n = ...)` to see more rows, and `colnames()` to see all variable names\n"
     ]
    }
   ],
   "source": [
    "%%R\n",
    "\n",
    "df <- read_csv('raw-polls.csv')\n",
    "\n",
    "df"
   ]
  },
  {
   "cell_type": "markdown",
   "metadata": {},
   "source": [
    "# Guided Exploration\n",
    "\n",
    "In this section you'll make a few charts to explore the data. Here I will raise some questions for you to dig around in the data and answer. You can use summary statistics and/or charts to help answer the questions. You will have to make some methodological choices along the way. Be aware of what choices you're making! I'll ask you about them shortly.\n",
    "\n",
    "\n",
    "## Question 1: How accurate are polls from the following pollsters?\n",
    "Characterize the accuracy of each of these pollsters in a sentence or two. Then, write another few sentences justifying your characterization with insights from the data.\n",
    "- Siena College/The New York Times Upshot\n",
    "- Jayhawk Consulting\n",
    "- Fox News/Beacon Research/Shaw & Co. Research\n",
    "- Brown University\n",
    "- American Research Group\n"
   ]
  },
  {
   "cell_type": "markdown",
   "metadata": {},
   "source": [
    "👉 **Siena College/The New York Times Upshot** "
   ]
  },
  {
   "cell_type": "code",
   "execution_count": 6,
   "metadata": {},
   "outputs": [],
   "source": [
    "# %%R\n",
    "\n",
    "# df_pres_general <- df %>% \n",
    "#     filter(type_simple=='Pres-G') # Filter data to polls in presidential general elections only\n",
    "\n",
    "# # a basic histogram\n",
    "# ggplot(df_pres_general) +\n",
    "#     aes(x=bias) +\n",
    "#     geom_histogram(bins=80) +\n",
    "#     geom_vline(aes(xintercept=0), color='red') +\n",
    "#     labs(\n",
    "#         title='',\n",
    "#         subtitle=\"\""
   ]
  },
  {
   "cell_type": "code",
   "execution_count": 7,
   "metadata": {},
   "outputs": [
    {
     "data": {
      "image/png": "[encoded data removed]"
     },
     "metadata": {},
     "output_type": "display_data"
    }
   ],
   "source": [
    "%%R\n",
    "\n",
    "df_siena <- df %>% \n",
    "    filter(pollster=='Siena College/The New York Times Upshot') # Filter data to polls in presidential general elections only\n",
    "\n",
    "# a basic histogram\n",
    "ggplot(df_siena) +\n",
    "    aes(x=bias) +\n",
    "    geom_histogram(bins=80)"
   ]
  },
  {
   "cell_type": "code",
   "execution_count": 8,
   "metadata": {},
   "outputs": [
    {
     "data": {
      "text/plain": [
       "0        False\n",
       "1        False\n",
       "2        False\n",
       "3        False\n",
       "4        False\n",
       "         ...  \n",
       "10771    False\n",
       "10772    False\n",
       "10773    False\n",
       "10774    False\n",
       "10775    False\n",
       "Name: pollster, Length: 10776, dtype: bool"
      ]
     },
     "execution_count": 8,
     "metadata": {},
     "output_type": "execute_result"
    }
   ],
   "source": [
    "df['pollster'] == 'Siena College/The New York Times Upshot'"
   ]
  },
  {
   "cell_type": "code",
   "execution_count": 9,
   "metadata": {},
   "outputs": [],
   "source": [
    "df_siena = df[df.pollster == \"Siena College/The New York Times Upshot\"]"
   ]
  },
  {
   "cell_type": "code",
   "execution_count": 10,
   "metadata": {},
   "outputs": [
    {
     "data": {
      "text/plain": [
       "House-G    44\n",
       "Pres-G     17\n",
       "Sen-G      13\n",
       "Gov-G       6\n",
       "Pres-D      1\n",
       "Sen-OS      1\n",
       "Sen-GS      1\n",
       "Name: type_detail, dtype: int64"
      ]
     },
     "execution_count": 10,
     "metadata": {},
     "output_type": "execute_result"
    }
   ],
   "source": [
    "df_siena.type_detail.value_counts()"
   ]
  },
  {
   "cell_type": "code",
   "execution_count": 11,
   "metadata": {},
   "outputs": [
    {
     "data": {
      "image/png": "[encoded data removed]"
     },
     "metadata": {},
     "output_type": "display_data"
    }
   ],
   "source": [
    "%%R\n",
    "\n",
    "df_siena <- df %>% \n",
    "    filter(pollster=='Siena College/The New York Times Upshot',type_detail=='House-G') # Filter data to polls in presidential general elections only\n",
    "\n",
    "# a basic histogram\n",
    "ggplot(df_siena) +\n",
    "    aes(x=bias) +\n",
    "    geom_histogram(bins=80)"
   ]
  },
  {
   "cell_type": "code",
   "execution_count": 12,
   "metadata": {},
   "outputs": [
    {
     "data": {
      "image/png": "[encoded data removed]"
     },
     "metadata": {},
     "output_type": "display_data"
    }
   ],
   "source": [
    "%%R\n",
    "\n",
    "df_siena <- df %>% \n",
    "    filter(pollster=='Siena College/The New York Times Upshot',type_detail=='Pres-G') # Filter data to polls in presidential general elections only\n",
    "\n",
    "# a basic histogram\n",
    "ggplot(df_siena) +\n",
    "    aes(x=bias,y=factor(year)) +\n",
    "    geom_point()"
   ]
  },
  {
   "cell_type": "code",
   "execution_count": 13,
   "metadata": {},
   "outputs": [],
   "source": [
    "#here we can see that in 2020, most of the polls show bias to democrats.\n",
    "\n",
    "#In 2020, they were close to being accurate on the General Presidential elections."
   ]
  },
  {
   "cell_type": "code",
   "execution_count": null,
   "metadata": {},
   "outputs": [],
   "source": []
  },
  {
   "cell_type": "markdown",
   "metadata": {},
   "source": [
    "👉 **Jayhawk Consulting**"
   ]
  },
  {
   "cell_type": "code",
   "execution_count": 17,
   "metadata": {},
   "outputs": [
    {
     "data": {
      "image/png": "[encoded data removed]"
     },
     "metadata": {},
     "output_type": "display_data"
    }
   ],
   "source": [
    "%%R\n",
    "\n",
    "df_jawhawk <- df %>% \n",
    "    filter(type_simple=='Pres-G') # Filter data to polls in presidential general elections only\n",
    "# plot the `bias` variable, which shows how far away from the \n",
    "# actual result each poll's result was...\n",
    "ggplot(df_jawhawk) +\n",
    "    aes(x=bias, y=year, color=bias>0) + \n",
    "    geom_point() +\n",
    "    geom_vline(aes(xintercept=0), color='red')  "
   ]
  },
  {
   "cell_type": "code",
   "execution_count": null,
   "metadata": {},
   "outputs": [],
   "source": []
  },
  {
   "cell_type": "markdown",
   "metadata": {},
   "source": [
    "👉 **Fox News/Beacon Research/Shaw & Co. Research**"
   ]
  },
  {
   "cell_type": "code",
   "execution_count": 19,
   "metadata": {},
   "outputs": [
    {
     "ename": "RParsingError",
     "evalue": "Parsing status not OK - PARSING_STATUS.PARSE_ERROR",
     "output_type": "error",
     "traceback": [
      "\u001b[0;31m---------------------------------------------------------------------------\u001b[0m",
      "\u001b[0;31mRParsingError\u001b[0m                             Traceback (most recent call last)",
      "Cell \u001b[0;32mIn [19], line 1\u001b[0m\n\u001b[0;32m----> 1\u001b[0m \u001b[43mget_ipython\u001b[49m\u001b[43m(\u001b[49m\u001b[43m)\u001b[49m\u001b[38;5;241;43m.\u001b[39;49m\u001b[43mrun_cell_magic\u001b[49m\u001b[43m(\u001b[49m\u001b[38;5;124;43m'\u001b[39;49m\u001b[38;5;124;43mR\u001b[39;49m\u001b[38;5;124;43m'\u001b[39;49m\u001b[43m,\u001b[49m\u001b[43m \u001b[49m\u001b[38;5;124;43m'\u001b[39;49m\u001b[38;5;124;43m'\u001b[39;49m\u001b[43m,\u001b[49m\u001b[43m \u001b[49m\u001b[38;5;124;43m\"\u001b[39;49m\u001b[38;5;130;43;01m\\n\u001b[39;49;00m\u001b[38;5;124;43mdf_Fox News/Beacon Research/Shaw & Co. Research <- df \u001b[39;49m\u001b[38;5;124;43m%\u001b[39;49m\u001b[38;5;124;43m>\u001b[39;49m\u001b[38;5;124;43m%\u001b[39;49m\u001b[38;5;124;43m \u001b[39;49m\u001b[38;5;130;43;01m\\n\u001b[39;49;00m\u001b[38;5;124;43m    filter(type_simple==\u001b[39;49m\u001b[38;5;124;43m'\u001b[39;49m\u001b[38;5;124;43mPres-G\u001b[39;49m\u001b[38;5;124;43m'\u001b[39;49m\u001b[38;5;124;43m) # Filter data to polls in presidential general elections only\u001b[39;49m\u001b[38;5;130;43;01m\\n\u001b[39;49;00m\u001b[38;5;124;43m# plot the `bias` variable, which shows how far away from the \u001b[39;49m\u001b[38;5;130;43;01m\\n\u001b[39;49;00m\u001b[38;5;124;43m# actual result each poll\u001b[39;49m\u001b[38;5;124;43m'\u001b[39;49m\u001b[38;5;124;43ms result was...\u001b[39;49m\u001b[38;5;130;43;01m\\n\u001b[39;49;00m\u001b[38;5;124;43mggplot(df_Fox News/Beacon Research/Shaw & Co. Research) +\u001b[39;49m\u001b[38;5;130;43;01m\\n\u001b[39;49;00m\u001b[38;5;124;43m    aes(x=bias, y=year) + \u001b[39;49m\u001b[38;5;130;43;01m\\n\u001b[39;49;00m\u001b[38;5;124;43m    geom_point() +\u001b[39;49m\u001b[38;5;130;43;01m\\n\u001b[39;49;00m\u001b[38;5;124;43m    geom_vline(aes(xintercept=0), color=\u001b[39;49m\u001b[38;5;124;43m'\u001b[39;49m\u001b[38;5;124;43mred\u001b[39;49m\u001b[38;5;124;43m'\u001b[39;49m\u001b[38;5;124;43m)  \u001b[39;49m\u001b[38;5;130;43;01m\\n\u001b[39;49;00m\u001b[38;5;124;43m\"\u001b[39;49m\u001b[43m)\u001b[49m\n",
      "File \u001b[0;32m~/.pyenv/versions/3.11.0rc2/lib/python3.11/site-packages/IPython/core/interactiveshell.py:2362\u001b[0m, in \u001b[0;36mInteractiveShell.run_cell_magic\u001b[0;34m(self, magic_name, line, cell)\u001b[0m\n\u001b[1;32m   2360\u001b[0m \u001b[38;5;28;01mwith\u001b[39;00m \u001b[38;5;28mself\u001b[39m\u001b[38;5;241m.\u001b[39mbuiltin_trap:\n\u001b[1;32m   2361\u001b[0m     args \u001b[38;5;241m=\u001b[39m (magic_arg_s, cell)\n\u001b[0;32m-> 2362\u001b[0m     result \u001b[38;5;241m=\u001b[39m \u001b[43mfn\u001b[49m\u001b[43m(\u001b[49m\u001b[38;5;241;43m*\u001b[39;49m\u001b[43margs\u001b[49m\u001b[43m,\u001b[49m\u001b[43m \u001b[49m\u001b[38;5;241;43m*\u001b[39;49m\u001b[38;5;241;43m*\u001b[39;49m\u001b[43mkwargs\u001b[49m\u001b[43m)\u001b[49m\n\u001b[1;32m   2363\u001b[0m \u001b[38;5;28;01mreturn\u001b[39;00m result\n",
      "File \u001b[0;32m~/.pyenv/versions/3.11.0rc2/lib/python3.11/site-packages/rpy2/ipython/rmagic.py:848\u001b[0m, in \u001b[0;36mRMagics.R\u001b[0;34m(self, line, cell, local_ns)\u001b[0m\n\u001b[1;32m    846\u001b[0m         return_output \u001b[38;5;241m=\u001b[39m \u001b[38;5;28;01mFalse\u001b[39;00m\n\u001b[1;32m    847\u001b[0m \u001b[38;5;28;01melse\u001b[39;00m:\n\u001b[0;32m--> 848\u001b[0m     text_result, result, visible \u001b[38;5;241m=\u001b[39m \u001b[38;5;28;43mself\u001b[39;49m\u001b[38;5;241;43m.\u001b[39;49m\u001b[43meval\u001b[49m\u001b[43m(\u001b[49m\u001b[43mcode\u001b[49m\u001b[43m)\u001b[49m\n\u001b[1;32m    849\u001b[0m     text_output \u001b[38;5;241m+\u001b[39m\u001b[38;5;241m=\u001b[39m text_result\n\u001b[1;32m    850\u001b[0m     \u001b[38;5;28;01mif\u001b[39;00m visible:\n",
      "File \u001b[0;32m~/.pyenv/versions/3.11.0rc2/lib/python3.11/site-packages/rpy2/ipython/rmagic.py:331\u001b[0m, in \u001b[0;36mRMagics.eval\u001b[0;34m(self, code)\u001b[0m\n\u001b[1;32m    323\u001b[0m     stack\u001b[38;5;241m.\u001b[39menter(\n\u001b[1;32m    324\u001b[0m         rpy2\u001b[38;5;241m.\u001b[39mrinterface_lib\n\u001b[1;32m    325\u001b[0m         \u001b[38;5;241m.\u001b[39mcallbacks\u001b[38;5;241m.\u001b[39mobj_in_module(rpy2\u001b[38;5;241m.\u001b[39mrinterface_lib\u001b[38;5;241m.\u001b[39mcallbacks,\n\u001b[1;32m    326\u001b[0m                                  \u001b[38;5;124m'\u001b[39m\u001b[38;5;124mconsolewrite_print\u001b[39m\u001b[38;5;124m'\u001b[39m,\n\u001b[1;32m    327\u001b[0m                                  \u001b[38;5;28mself\u001b[39m\u001b[38;5;241m.\u001b[39mwrite_console_regular)\n\u001b[1;32m    328\u001b[0m     )\n\u001b[1;32m    329\u001b[0m \u001b[38;5;28;01mtry\u001b[39;00m:\n\u001b[1;32m    330\u001b[0m     \u001b[38;5;66;03m# Need the newline in case the last line in code is a comment.\u001b[39;00m\n\u001b[0;32m--> 331\u001b[0m     value, visible \u001b[38;5;241m=\u001b[39m \u001b[43mro\u001b[49m\u001b[38;5;241;43m.\u001b[39;49m\u001b[43mr\u001b[49m\u001b[43m(\u001b[49m\u001b[38;5;124;43m\"\u001b[39;49m\u001b[38;5;124;43mwithVisible(\u001b[39;49m\u001b[38;5;124;43m{\u001b[39;49m\u001b[38;5;132;43;01m%s\u001b[39;49;00m\u001b[38;5;130;43;01m\\n\u001b[39;49;00m\u001b[38;5;124;43m})\u001b[39;49m\u001b[38;5;124;43m\"\u001b[39;49m\u001b[43m \u001b[49m\u001b[38;5;241;43m%\u001b[39;49m\u001b[43m \u001b[49m\u001b[43mcode\u001b[49m\u001b[43m)\u001b[49m\n\u001b[1;32m    332\u001b[0m \u001b[38;5;28;01mexcept\u001b[39;00m (ri\u001b[38;5;241m.\u001b[39membedded\u001b[38;5;241m.\u001b[39mRRuntimeError, \u001b[38;5;167;01mValueError\u001b[39;00m) \u001b[38;5;28;01mas\u001b[39;00m exception:\n\u001b[1;32m    333\u001b[0m     \u001b[38;5;66;03m# Otherwise next return seems to have copy of error.\u001b[39;00m\n\u001b[1;32m    334\u001b[0m     warning_or_other_msg \u001b[38;5;241m=\u001b[39m \u001b[38;5;28mself\u001b[39m\u001b[38;5;241m.\u001b[39mflush()\n",
      "File \u001b[0;32m~/.pyenv/versions/3.11.0rc2/lib/python3.11/site-packages/rpy2/robjects/__init__.py:458\u001b[0m, in \u001b[0;36mR.__call__\u001b[0;34m(self, string)\u001b[0m\n\u001b[1;32m    457\u001b[0m \u001b[38;5;28;01mdef\u001b[39;00m \u001b[38;5;21m__call__\u001b[39m(\u001b[38;5;28mself\u001b[39m, string):\n\u001b[0;32m--> 458\u001b[0m     p \u001b[38;5;241m=\u001b[39m \u001b[43mrinterface\u001b[49m\u001b[38;5;241;43m.\u001b[39;49m\u001b[43mparse\u001b[49m\u001b[43m(\u001b[49m\u001b[43mstring\u001b[49m\u001b[43m)\u001b[49m\n\u001b[1;32m    459\u001b[0m     res \u001b[38;5;241m=\u001b[39m \u001b[38;5;28mself\u001b[39m\u001b[38;5;241m.\u001b[39meval(p)\n\u001b[1;32m    460\u001b[0m     \u001b[38;5;28;01mreturn\u001b[39;00m conversion\u001b[38;5;241m.\u001b[39mget_conversion()\u001b[38;5;241m.\u001b[39mrpy2py(res)\n",
      "File \u001b[0;32m~/.pyenv/versions/3.11.0rc2/lib/python3.11/site-packages/rpy2/rinterface_lib/conversion.py:45\u001b[0m, in \u001b[0;36m_cdata_res_to_rinterface.<locals>._\u001b[0;34m(*args, **kwargs)\u001b[0m\n\u001b[1;32m     44\u001b[0m \u001b[38;5;28;01mdef\u001b[39;00m \u001b[38;5;21m_\u001b[39m(\u001b[38;5;241m*\u001b[39margs, \u001b[38;5;241m*\u001b[39m\u001b[38;5;241m*\u001b[39mkwargs):\n\u001b[0;32m---> 45\u001b[0m     cdata \u001b[38;5;241m=\u001b[39m \u001b[43mfunction\u001b[49m\u001b[43m(\u001b[49m\u001b[38;5;241;43m*\u001b[39;49m\u001b[43margs\u001b[49m\u001b[43m,\u001b[49m\u001b[43m \u001b[49m\u001b[38;5;241;43m*\u001b[39;49m\u001b[38;5;241;43m*\u001b[39;49m\u001b[43mkwargs\u001b[49m\u001b[43m)\u001b[49m\n\u001b[1;32m     46\u001b[0m     \u001b[38;5;66;03m# TODO: test cdata is of the expected CType\u001b[39;00m\n\u001b[1;32m     47\u001b[0m     \u001b[38;5;28;01mreturn\u001b[39;00m _cdata_to_rinterface(cdata)\n",
      "File \u001b[0;32m~/.pyenv/versions/3.11.0rc2/lib/python3.11/site-packages/rpy2/rinterface.py:110\u001b[0m, in \u001b[0;36mparse\u001b[0;34m(text, num)\u001b[0m\n\u001b[1;32m    108\u001b[0m robj \u001b[38;5;241m=\u001b[39m StrSexpVector([text])\n\u001b[1;32m    109\u001b[0m \u001b[38;5;28;01mwith\u001b[39;00m memorymanagement\u001b[38;5;241m.\u001b[39mrmemory() \u001b[38;5;28;01mas\u001b[39;00m rmemory:\n\u001b[0;32m--> 110\u001b[0m     res \u001b[38;5;241m=\u001b[39m \u001b[43m_rinterface\u001b[49m\u001b[38;5;241;43m.\u001b[39;49m\u001b[43m_parse\u001b[49m\u001b[43m(\u001b[49m\u001b[43mrobj\u001b[49m\u001b[38;5;241;43m.\u001b[39;49m\u001b[43m__sexp__\u001b[49m\u001b[38;5;241;43m.\u001b[39;49m\u001b[43m_cdata\u001b[49m\u001b[43m,\u001b[49m\u001b[43m \u001b[49m\u001b[43mnum\u001b[49m\u001b[43m,\u001b[49m\u001b[43m \u001b[49m\u001b[43mrmemory\u001b[49m\u001b[43m)\u001b[49m\n\u001b[1;32m    111\u001b[0m \u001b[38;5;28;01mreturn\u001b[39;00m res\n",
      "File \u001b[0;32m~/.pyenv/versions/3.11.0rc2/lib/python3.11/site-packages/rpy2/rinterface_lib/_rinterface_capi.py:720\u001b[0m, in \u001b[0;36m_parse\u001b[0;34m(cdata, num, rmemory)\u001b[0m\n\u001b[1;32m    713\u001b[0m \u001b[38;5;66;03m# TODO: design better handling of possible status:\u001b[39;00m\n\u001b[1;32m    714\u001b[0m \u001b[38;5;66;03m# PARSE_NULL,\u001b[39;00m\n\u001b[1;32m    715\u001b[0m \u001b[38;5;66;03m# PARSE_OK,\u001b[39;00m\n\u001b[1;32m    716\u001b[0m \u001b[38;5;66;03m# PARSE_INCOMPLETE,\u001b[39;00m\n\u001b[1;32m    717\u001b[0m \u001b[38;5;66;03m# PARSE_ERROR,\u001b[39;00m\n\u001b[1;32m    718\u001b[0m \u001b[38;5;66;03m# PARSE_EOF\u001b[39;00m\n\u001b[1;32m    719\u001b[0m \u001b[38;5;28;01mif\u001b[39;00m status[\u001b[38;5;241m0\u001b[39m] \u001b[38;5;241m!=\u001b[39m openrlib\u001b[38;5;241m.\u001b[39mrlib\u001b[38;5;241m.\u001b[39mPARSE_OK:\n\u001b[0;32m--> 720\u001b[0m     \u001b[38;5;28;01mraise\u001b[39;00m RParsingError(\u001b[38;5;124m'\u001b[39m\u001b[38;5;124mParsing status not OK\u001b[39m\u001b[38;5;124m'\u001b[39m,\n\u001b[1;32m    721\u001b[0m                         status\u001b[38;5;241m=\u001b[39mPARSING_STATUS(status[\u001b[38;5;241m0\u001b[39m]))\n\u001b[1;32m    722\u001b[0m \u001b[38;5;28;01mreturn\u001b[39;00m res\n",
      "\u001b[0;31mRParsingError\u001b[0m: Parsing status not OK - PARSING_STATUS.PARSE_ERROR"
     ]
    }
   ],
   "source": [
    "%%R\n",
    "\n",
    "df_Fox News/Beacon Research/Shaw & Co. Research <- df %>% \n",
    "    filter(type_simple=='Pres-G') # Filter data to polls in presidential general elections only\n",
    "# plot the `bias` variable, which shows how far away from the \n",
    "# actual result each poll's result was...\n",
    "ggplot(df_Fox News/Beacon Research/Shaw & Co. Research) +\n",
    "    aes(x=bias, y=year) + \n",
    "    geom_point() +\n",
    "    geom_vline(aes(xintercept=0), color='red')  "
   ]
  },
  {
   "cell_type": "code",
   "execution_count": null,
   "metadata": {},
   "outputs": [],
   "source": []
  },
  {
   "cell_type": "code",
   "execution_count": null,
   "metadata": {},
   "outputs": [],
   "source": []
  },
  {
   "cell_type": "code",
   "execution_count": null,
   "metadata": {},
   "outputs": [],
   "source": []
  },
  {
   "cell_type": "code",
   "execution_count": null,
   "metadata": {},
   "outputs": [],
   "source": []
  },
  {
   "cell_type": "markdown",
   "metadata": {},
   "source": [
    "👉 **Brown University**"
   ]
  },
  {
   "cell_type": "code",
   "execution_count": null,
   "metadata": {},
   "outputs": [],
   "source": []
  },
  {
   "cell_type": "code",
   "execution_count": null,
   "metadata": {},
   "outputs": [],
   "source": []
  },
  {
   "cell_type": "code",
   "execution_count": null,
   "metadata": {},
   "outputs": [],
   "source": []
  },
  {
   "cell_type": "code",
   "execution_count": null,
   "metadata": {},
   "outputs": [],
   "source": []
  },
  {
   "cell_type": "code",
   "execution_count": null,
   "metadata": {},
   "outputs": [],
   "source": []
  },
  {
   "cell_type": "code",
   "execution_count": null,
   "metadata": {},
   "outputs": [],
   "source": []
  },
  {
   "cell_type": "code",
   "execution_count": null,
   "metadata": {},
   "outputs": [],
   "source": []
  },
  {
   "cell_type": "code",
   "execution_count": null,
   "metadata": {},
   "outputs": [],
   "source": []
  },
  {
   "cell_type": "markdown",
   "metadata": {},
   "source": [
    "👉 **American Research Group**"
   ]
  },
  {
   "cell_type": "code",
   "execution_count": null,
   "metadata": {},
   "outputs": [],
   "source": []
  },
  {
   "cell_type": "code",
   "execution_count": null,
   "metadata": {},
   "outputs": [],
   "source": []
  },
  {
   "cell_type": "markdown",
   "metadata": {},
   "source": [
    "### Question 2: Which pollsters are the most accurate? Which are the least accurate?"
   ]
  },
  {
   "cell_type": "markdown",
   "metadata": {},
   "source": [
    "👉 Which pollsters are the most accurate?"
   ]
  },
  {
   "cell_type": "code",
   "execution_count": null,
   "metadata": {},
   "outputs": [],
   "source": []
  },
  {
   "cell_type": "code",
   "execution_count": null,
   "metadata": {},
   "outputs": [],
   "source": []
  },
  {
   "cell_type": "code",
   "execution_count": null,
   "metadata": {},
   "outputs": [],
   "source": []
  },
  {
   "cell_type": "markdown",
   "metadata": {},
   "source": [
    "👉 Which are the least accurate?"
   ]
  },
  {
   "cell_type": "code",
   "execution_count": null,
   "metadata": {},
   "outputs": [],
   "source": []
  },
  {
   "cell_type": "code",
   "execution_count": null,
   "metadata": {},
   "outputs": [],
   "source": []
  },
  {
   "cell_type": "code",
   "execution_count": null,
   "metadata": {},
   "outputs": [],
   "source": []
  },
  {
   "cell_type": "markdown",
   "metadata": {},
   "source": [
    "### Question 2 Reflections"
   ]
  },
  {
   "cell_type": "markdown",
   "metadata": {},
   "source": [
    "👉 Write a summary paragraph explaining how you decided what constitutes “most accurate” and \"least accurate\"?\n"
   ]
  },
  {
   "cell_type": "code",
   "execution_count": null,
   "metadata": {},
   "outputs": [],
   "source": []
  },
  {
   "cell_type": "markdown",
   "metadata": {},
   "source": [
    "👉 In bullet point form, name **methodological choices** you made in the process of determining which pollsters were the most and least accurate.\n"
   ]
  },
  {
   "cell_type": "code",
   "execution_count": null,
   "metadata": {},
   "outputs": [],
   "source": []
  },
  {
   "cell_type": "markdown",
   "metadata": {},
   "source": [
    "👉 In bullet point form, list the **limitations** of your approach \n"
   ]
  },
  {
   "cell_type": "code",
   "execution_count": null,
   "metadata": {},
   "outputs": [],
   "source": []
  }
 ],
 "metadata": {
  "kernelspec": {
   "display_name": "Python 3 (ipykernel)",
   "language": "python",
   "name": "python3"
  },
  "language_info": {
   "codemirror_mode": {
    "name": "ipython",
    "version": 3
   },
   "file_extension": ".py",
   "mimetype": "text/x-python",
   "name": "python",
   "nbconvert_exporter": "python",
   "pygments_lexer": "ipython3",
   "version": "3.11.0rc2"
  },
  "vscode": {
   "interpreter": {
    "hash": "34166945ca6cc351f9d38b360afe1a928411c84fd696a9e2d08d61ef3f7e4692"
   }
  }
 },
 "nbformat": 4,
 "nbformat_minor": 4
}
