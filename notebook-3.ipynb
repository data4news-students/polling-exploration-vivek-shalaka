{
 "cells": [
  {
   "cell_type": "markdown",
   "metadata": {},
   "source": [
    "# Python and R"
   ]
  },
  {
   "cell_type": "code",
   "execution_count": 10,
   "metadata": {},
   "outputs": [
    {
     "name": "stdout",
     "output_type": "stream",
     "text": [
      "The rpy2.ipython extension is already loaded. To reload it, use:\n",
      "  %reload_ext rpy2.ipython\n",
      "The autoreload extension is already loaded. To reload it, use:\n",
      "  %reload_ext autoreload\n"
     ]
    }
   ],
   "source": [
    "%load_ext rpy2.ipython\n",
    "%load_ext autoreload\n",
    "%autoreload 2\n",
    "\n",
    "%matplotlib inline  \n",
    "from matplotlib import rcParams\n",
    "rcParams['figure.figsize'] = (16, 100)\n",
    "\n",
    "import warnings\n",
    "from rpy2.rinterface import RRuntimeWarning\n",
    "warnings.filterwarnings(\"ignore\") # Ignore all warnings\n",
    "# warnings.filterwarnings(\"ignore\", category=RRuntimeWarning) # Show some warnings\n",
    "\n",
    "import pandas as pd\n",
    "import numpy as np\n",
    "import matplotlib.pyplot as plt\n",
    "from IPython.display import display, HTML\n",
    "\n",
    "# show all columns on pandas dataframes\n",
    "pd.set_option('display.max_columns', None)\n"
   ]
  },
  {
   "cell_type": "code",
   "execution_count": 11,
   "metadata": {},
   "outputs": [
    {
     "data": {
      "application/javascript": [
       "// Disable auto-scrolling\n",
       "IPython.OutputArea.prototype._should_scroll = function(lines) {\n",
       "    return false;\n",
       "}\n"
      ],
      "text/plain": [
       "<IPython.core.display.Javascript object>"
      ]
     },
     "metadata": {},
     "output_type": "display_data"
    }
   ],
   "source": [
    "%%javascript\n",
    "// Disable auto-scrolling\n",
    "IPython.OutputArea.prototype._should_scroll = function(lines) {\n",
    "    return false;\n",
    "}"
   ]
  },
  {
   "cell_type": "code",
   "execution_count": 12,
   "metadata": {},
   "outputs": [],
   "source": [
    "%%R\n",
    "\n",
    "# My commonly used R imports\n",
    "\n",
    "require('tidyverse')\n"
   ]
  },
  {
   "cell_type": "markdown",
   "metadata": {},
   "source": [
    "\n",
    "# Read the data\n",
    "\n"
   ]
  },
  {
   "cell_type": "markdown",
   "metadata": {},
   "source": [
    "The cell below loads the data in python:"
   ]
  },
  {
   "cell_type": "code",
   "execution_count": 13,
   "metadata": {},
   "outputs": [
    {
     "data": {
      "text/html": [
       "<div>\n",
       "<style scoped>\n",
       "    .dataframe tbody tr th:only-of-type {\n",
       "        vertical-align: middle;\n",
       "    }\n",
       "\n",
       "    .dataframe tbody tr th {\n",
       "        vertical-align: top;\n",
       "    }\n",
       "\n",
       "    .dataframe thead th {\n",
       "        text-align: right;\n",
       "    }\n",
       "</style>\n",
       "<table border=\"1\" class=\"dataframe\">\n",
       "  <thead>\n",
       "    <tr style=\"text-align: right;\">\n",
       "      <th></th>\n",
       "      <th>poll_id</th>\n",
       "      <th>question_id</th>\n",
       "      <th>race_id</th>\n",
       "      <th>year</th>\n",
       "      <th>race</th>\n",
       "      <th>location</th>\n",
       "      <th>type_simple</th>\n",
       "      <th>type_detail</th>\n",
       "      <th>pollster</th>\n",
       "      <th>pollster_rating_id</th>\n",
       "      <th>methodology</th>\n",
       "      <th>partisan</th>\n",
       "      <th>polldate</th>\n",
       "      <th>samplesize</th>\n",
       "      <th>cand1_name</th>\n",
       "      <th>cand1_id</th>\n",
       "      <th>cand1_party</th>\n",
       "      <th>cand1_pct</th>\n",
       "      <th>cand2_name</th>\n",
       "      <th>cand2_id</th>\n",
       "      <th>cand2_party</th>\n",
       "      <th>cand2_pct</th>\n",
       "      <th>cand3_pct</th>\n",
       "      <th>margin_poll</th>\n",
       "      <th>electiondate</th>\n",
       "      <th>cand1_actual</th>\n",
       "      <th>cand2_actual</th>\n",
       "      <th>margin_actual</th>\n",
       "      <th>bias</th>\n",
       "      <th>rightcall</th>\n",
       "      <th>comment</th>\n",
       "    </tr>\n",
       "  </thead>\n",
       "  <tbody>\n",
       "    <tr>\n",
       "      <th>5705</th>\n",
       "      <td>32818</td>\n",
       "      <td>39415</td>\n",
       "      <td>1530</td>\n",
       "      <td>2010</td>\n",
       "      <td>2010_Sen-G_NY</td>\n",
       "      <td>NY</td>\n",
       "      <td>Sen-G</td>\n",
       "      <td>Sen-G</td>\n",
       "      <td>YouGov</td>\n",
       "      <td>391</td>\n",
       "      <td>Online</td>\n",
       "      <td>NaN</td>\n",
       "      <td>10/30/10</td>\n",
       "      <td>578.0</td>\n",
       "      <td>Charles E. Schumer</td>\n",
       "      <td>957</td>\n",
       "      <td>DEM</td>\n",
       "      <td>60.0</td>\n",
       "      <td>Jay Townsend</td>\n",
       "      <td>959</td>\n",
       "      <td>REP</td>\n",
       "      <td>34.0</td>\n",
       "      <td>NaN</td>\n",
       "      <td>26.0</td>\n",
       "      <td>11/2/10</td>\n",
       "      <td>66.32</td>\n",
       "      <td>32.21</td>\n",
       "      <td>34.11</td>\n",
       "      <td>-8.11</td>\n",
       "      <td>1.0</td>\n",
       "      <td>NaN</td>\n",
       "    </tr>\n",
       "    <tr>\n",
       "      <th>9001</th>\n",
       "      <td>56356</td>\n",
       "      <td>90592</td>\n",
       "      <td>116</td>\n",
       "      <td>2018</td>\n",
       "      <td>2018_Sen-G_ND</td>\n",
       "      <td>ND</td>\n",
       "      <td>Sen-G</td>\n",
       "      <td>Sen-G</td>\n",
       "      <td>Strategic Research Associates</td>\n",
       "      <td>462</td>\n",
       "      <td>Live Phone</td>\n",
       "      <td>NaN</td>\n",
       "      <td>10/16/18</td>\n",
       "      <td>650.0</td>\n",
       "      <td>Heidi Heitkamp</td>\n",
       "      <td>11148</td>\n",
       "      <td>DEM</td>\n",
       "      <td>40.0</td>\n",
       "      <td>Kevin Cramer</td>\n",
       "      <td>11149</td>\n",
       "      <td>REP</td>\n",
       "      <td>56.0</td>\n",
       "      <td>NaN</td>\n",
       "      <td>-16.0</td>\n",
       "      <td>11/6/18</td>\n",
       "      <td>44.27</td>\n",
       "      <td>55.11</td>\n",
       "      <td>-10.84</td>\n",
       "      <td>-5.16</td>\n",
       "      <td>1.0</td>\n",
       "      <td>for Gray Television</td>\n",
       "    </tr>\n",
       "    <tr>\n",
       "      <th>3845</th>\n",
       "      <td>2145</td>\n",
       "      <td>2720</td>\n",
       "      <td>7416</td>\n",
       "      <td>2008</td>\n",
       "      <td>2008_Pres-D_IN</td>\n",
       "      <td>IN</td>\n",
       "      <td>Pres-P</td>\n",
       "      <td>Pres-D</td>\n",
       "      <td>Zogby Interactive/JZ Analytics</td>\n",
       "      <td>395</td>\n",
       "      <td>Live Phone</td>\n",
       "      <td>NaN</td>\n",
       "      <td>5/1/08</td>\n",
       "      <td>680.0</td>\n",
       "      <td>Hillary Rodham Clinton</td>\n",
       "      <td>45</td>\n",
       "      <td>DEM</td>\n",
       "      <td>42.0</td>\n",
       "      <td>Barack Obama</td>\n",
       "      <td>41</td>\n",
       "      <td>DEM</td>\n",
       "      <td>42.0</td>\n",
       "      <td>NaN</td>\n",
       "      <td>0.0</td>\n",
       "      <td>5/6/08</td>\n",
       "      <td>50.56</td>\n",
       "      <td>49.44</td>\n",
       "      <td>1.11</td>\n",
       "      <td>NaN</td>\n",
       "      <td>0.5</td>\n",
       "      <td>NaN</td>\n",
       "    </tr>\n",
       "    <tr>\n",
       "      <th>3346</th>\n",
       "      <td>2900</td>\n",
       "      <td>3545</td>\n",
       "      <td>7338</td>\n",
       "      <td>2008</td>\n",
       "      <td>2008_Pres-R_SC</td>\n",
       "      <td>SC</td>\n",
       "      <td>Pres-P</td>\n",
       "      <td>Pres-R</td>\n",
       "      <td>Mason-Dixon Polling &amp; Strategy</td>\n",
       "      <td>197</td>\n",
       "      <td>Live Phone</td>\n",
       "      <td>NaN</td>\n",
       "      <td>1/15/08</td>\n",
       "      <td>400.0</td>\n",
       "      <td>John McCain</td>\n",
       "      <td>44</td>\n",
       "      <td>REP</td>\n",
       "      <td>27.0</td>\n",
       "      <td>Mike Huckabee</td>\n",
       "      <td>47</td>\n",
       "      <td>REP</td>\n",
       "      <td>25.0</td>\n",
       "      <td>13.0</td>\n",
       "      <td>2.0</td>\n",
       "      <td>1/19/08</td>\n",
       "      <td>33.15</td>\n",
       "      <td>29.84</td>\n",
       "      <td>3.31</td>\n",
       "      <td>NaN</td>\n",
       "      <td>1.0</td>\n",
       "      <td>NaN</td>\n",
       "    </tr>\n",
       "    <tr>\n",
       "      <th>4913</th>\n",
       "      <td>64366</td>\n",
       "      <td>118418</td>\n",
       "      <td>1801</td>\n",
       "      <td>2009</td>\n",
       "      <td>2009_House-GS_CA-10</td>\n",
       "      <td>CA-10</td>\n",
       "      <td>House-G</td>\n",
       "      <td>House-GS</td>\n",
       "      <td>SurveyUSA</td>\n",
       "      <td>325</td>\n",
       "      <td>IVR</td>\n",
       "      <td>NaN</td>\n",
       "      <td>10/27/09</td>\n",
       "      <td>581.0</td>\n",
       "      <td>John Garamendi</td>\n",
       "      <td>14432</td>\n",
       "      <td>DEM</td>\n",
       "      <td>50.0</td>\n",
       "      <td>David Harmer</td>\n",
       "      <td>14433</td>\n",
       "      <td>REP</td>\n",
       "      <td>40.0</td>\n",
       "      <td>NaN</td>\n",
       "      <td>10.0</td>\n",
       "      <td>11/3/09</td>\n",
       "      <td>52.85</td>\n",
       "      <td>42.83</td>\n",
       "      <td>10.02</td>\n",
       "      <td>-0.02</td>\n",
       "      <td>1.0</td>\n",
       "      <td>NaN</td>\n",
       "    </tr>\n",
       "  </tbody>\n",
       "</table>\n",
       "</div>"
      ],
      "text/plain": [
       "      poll_id  question_id  race_id  year                 race location  \\\n",
       "5705    32818        39415     1530  2010        2010_Sen-G_NY       NY   \n",
       "9001    56356        90592      116  2018        2018_Sen-G_ND       ND   \n",
       "3845     2145         2720     7416  2008       2008_Pres-D_IN       IN   \n",
       "3346     2900         3545     7338  2008       2008_Pres-R_SC       SC   \n",
       "4913    64366       118418     1801  2009  2009_House-GS_CA-10    CA-10   \n",
       "\n",
       "     type_simple type_detail                        pollster  \\\n",
       "5705       Sen-G       Sen-G                          YouGov   \n",
       "9001       Sen-G       Sen-G   Strategic Research Associates   \n",
       "3845      Pres-P      Pres-D  Zogby Interactive/JZ Analytics   \n",
       "3346      Pres-P      Pres-R  Mason-Dixon Polling & Strategy   \n",
       "4913     House-G    House-GS                       SurveyUSA   \n",
       "\n",
       "      pollster_rating_id methodology partisan  polldate  samplesize  \\\n",
       "5705                 391      Online      NaN  10/30/10       578.0   \n",
       "9001                 462  Live Phone      NaN  10/16/18       650.0   \n",
       "3845                 395  Live Phone      NaN    5/1/08       680.0   \n",
       "3346                 197  Live Phone      NaN   1/15/08       400.0   \n",
       "4913                 325         IVR      NaN  10/27/09       581.0   \n",
       "\n",
       "                  cand1_name  cand1_id cand1_party  cand1_pct     cand2_name  \\\n",
       "5705      Charles E. Schumer       957         DEM       60.0   Jay Townsend   \n",
       "9001          Heidi Heitkamp     11148         DEM       40.0   Kevin Cramer   \n",
       "3845  Hillary Rodham Clinton        45         DEM       42.0   Barack Obama   \n",
       "3346             John McCain        44         REP       27.0  Mike Huckabee   \n",
       "4913          John Garamendi     14432         DEM       50.0   David Harmer   \n",
       "\n",
       "      cand2_id cand2_party  cand2_pct  cand3_pct  margin_poll electiondate  \\\n",
       "5705       959         REP       34.0        NaN         26.0      11/2/10   \n",
       "9001     11149         REP       56.0        NaN        -16.0      11/6/18   \n",
       "3845        41         DEM       42.0        NaN          0.0       5/6/08   \n",
       "3346        47         REP       25.0       13.0          2.0      1/19/08   \n",
       "4913     14433         REP       40.0        NaN         10.0      11/3/09   \n",
       "\n",
       "      cand1_actual  cand2_actual  margin_actual  bias  rightcall  \\\n",
       "5705         66.32         32.21          34.11 -8.11        1.0   \n",
       "9001         44.27         55.11         -10.84 -5.16        1.0   \n",
       "3845         50.56         49.44           1.11   NaN        0.5   \n",
       "3346         33.15         29.84           3.31   NaN        1.0   \n",
       "4913         52.85         42.83          10.02 -0.02        1.0   \n",
       "\n",
       "                  comment  \n",
       "5705                  NaN  \n",
       "9001  for Gray Television  \n",
       "3845                  NaN  \n",
       "3346                  NaN  \n",
       "4913                  NaN  "
      ]
     },
     "execution_count": 13,
     "metadata": {},
     "output_type": "execute_result"
    }
   ],
   "source": [
    "df = pd.read_csv('raw-polls.csv')\n",
    "df.sample(5)"
   ]
  },
  {
   "cell_type": "markdown",
   "metadata": {},
   "source": [
    "The cell below loads the same data in R:"
   ]
  },
  {
   "cell_type": "code",
   "execution_count": 14,
   "metadata": {},
   "outputs": [
    {
     "name": "stdout",
     "output_type": "stream",
     "text": [
      "Rows: 10776 Columns: 31\n",
      "── Column specification ────────────────────────────────────────────────────────\n",
      "Delimiter: \",\"\n",
      "chr (14): race, location, type_simple, type_detail, pollster, methodology, p...\n",
      "dbl (17): poll_id, question_id, race_id, year, pollster_rating_id, samplesiz...\n",
      "\n",
      "ℹ Use `spec()` to retrieve the full column specification for this data.\n",
      "ℹ Specify the column types or set `show_col_types = FALSE` to quiet this message.\n",
      "# A tibble: 10,776 × 31\n",
      "   poll_id questio…¹ race_id  year race  locat…² type_…³ type_…⁴ polls…⁵ polls…⁶\n",
      "     <dbl>     <dbl>   <dbl> <dbl> <chr> <chr>   <chr>   <chr>   <chr>     <dbl>\n",
      " 1   26013     87909    1455  1998 1998… NY      Gov-G   Gov-G   Blum &…      32\n",
      " 2   26255     87926    1456  1998 1998… OH      Gov-G   Gov-G   Univer…     346\n",
      " 3   26026     31266    1736  1998 1998… NV      Sen-G   Sen-G   FM3 Re…      91\n",
      " 4   26013     31253    1738  1998 1998… NY      Sen-G   Sen-G   Blum &…      32\n",
      " 5   63632    117103    1738  1998 1998… NY      Sen-G   Sen-G   Garin-…     113\n",
      " 6   26255     31495    1741  1998 1998… OH      Sen-G   Sen-G   Univer…     346\n",
      " 7   64053    117875    1966  1998 1998… ID-1    House-G House-G Garin-…     113\n",
      " 8   64053    117876    1967  1998 1998… ID-2    House-G House-G Garin-…     113\n",
      " 9   28268     33546    8661  1998 1998… US      House-G House-G CBS Ne…      36\n",
      "10   28267     33545    8661  1998 1998… US      House-G House-G Zogby …     395\n",
      "# … with 10,766 more rows, 21 more variables: methodology <chr>,\n",
      "#   partisan <chr>, polldate <chr>, samplesize <dbl>, cand1_name <chr>,\n",
      "#   cand1_id <dbl>, cand1_party <chr>, cand1_pct <dbl>, cand2_name <chr>,\n",
      "#   cand2_id <dbl>, cand2_party <chr>, cand2_pct <dbl>, cand3_pct <dbl>,\n",
      "#   margin_poll <dbl>, electiondate <chr>, cand1_actual <dbl>,\n",
      "#   cand2_actual <dbl>, margin_actual <dbl>, bias <dbl>, rightcall <dbl>,\n",
      "#   comment <chr>, and abbreviated variable names ¹​question_id, ²​location, …\n",
      "# ℹ Use `print(n = ...)` to see more rows, and `colnames()` to see all variable names\n"
     ]
    }
   ],
   "source": [
    "%%R\n",
    "\n",
    "df <- read_csv('raw-polls.csv')\n",
    "\n",
    "df"
   ]
  },
  {
   "cell_type": "markdown",
   "metadata": {},
   "source": [
    "# Guided Exploration\n",
    "\n",
    "In this section you'll make a few charts to explore the data. Here I will raise some questions for you to dig around in the data and answer. You can use summary statistics and/or charts to help answer the questions. You will have to make some methodological choices along the way. Be aware of what choices you're making! I'll ask you about them shortly.\n",
    "\n",
    "\n",
    "## Question 1: How accurate are polls from the following pollsters?\n",
    "Characterize the accuracy of each of these pollsters in a sentence or two. Then, write another few sentences justifying your characterization with insights from the data.\n",
    "- Siena College/The New York Times Upshot\n",
    "- Jayhawk Consulting\n",
    "- Fox News/Beacon Research/Shaw & Co. Research\n",
    "- Brown University\n",
    "- American Research Group\n"
   ]
  },
  {
   "cell_type": "markdown",
   "metadata": {},
   "source": [
    "👉 **Siena College/The New York Times Upshot** "
   ]
  },
  {
   "cell_type": "code",
   "execution_count": 15,
   "metadata": {},
   "outputs": [],
   "source": [
    "# %%R\n",
    "\n",
    "# df_pres_general <- df %>% \n",
    "#     filter(type_simple=='Pres-G') # Filter data to polls in presidential general elections only\n",
    "\n",
    "# # a basic histogram\n",
    "# ggplot(df_pres_general) +\n",
    "#     aes(x=bias) +\n",
    "#     geom_histogram(bins=80) +\n",
    "#     geom_vline(aes(xintercept=0), color='red') +\n",
    "#     labs(\n",
    "#         title='',\n",
    "#         subtitle=\"\""
   ]
  },
  {
   "cell_type": "code",
   "execution_count": 17,
   "metadata": {},
   "outputs": [
    {
     "data": {
      "image/png": "[encoded data removed]"
     },
     "metadata": {},
     "output_type": "display_data"
    }
   ],
   "source": [
    "%%R\n",
    "\n",
    "df_siena <- df %>% \n",
    "    filter(pollster=='Siena College/The New York Times Upshot') # Filter data to polls in presidential general elections only\n",
    "\n",
    "# a basic histogram\n",
    "ggplot(df_siena) +\n",
    "    aes(x=bias) +\n",
    "    geom_histogram(bins=80)"
   ]
  },
  {
   "cell_type": "code",
   "execution_count": 19,
   "metadata": {},
   "outputs": [
    {
     "data": {
      "text/plain": [
       "0        False\n",
       "1        False\n",
       "2        False\n",
       "3        False\n",
       "4        False\n",
       "         ...  \n",
       "10771    False\n",
       "10772    False\n",
       "10773    False\n",
       "10774    False\n",
       "10775    False\n",
       "Name: pollster, Length: 10776, dtype: bool"
      ]
     },
     "execution_count": 19,
     "metadata": {},
     "output_type": "execute_result"
    }
   ],
   "source": [
    "df['pollster'] == 'Siena College/The New York Times Upshot'"
   ]
  },
  {
   "cell_type": "code",
   "execution_count": 22,
   "metadata": {},
   "outputs": [],
   "source": [
    "df_siena = df[df.pollster == \"Siena College/The New York Times Upshot\"]"
   ]
  },
  {
   "cell_type": "code",
   "execution_count": 26,
   "metadata": {},
   "outputs": [
    {
     "data": {
      "text/plain": [
       "House-G    44\n",
       "Pres-G     17\n",
       "Sen-G      13\n",
       "Gov-G       6\n",
       "Pres-D      1\n",
       "Sen-OS      1\n",
       "Sen-GS      1\n",
       "Name: type_detail, dtype: int64"
      ]
     },
     "execution_count": 26,
     "metadata": {},
     "output_type": "execute_result"
    }
   ],
   "source": [
    "df_siena.type_detail.value_counts()"
   ]
  },
  {
   "cell_type": "code",
   "execution_count": 27,
   "metadata": {},
   "outputs": [
    {
     "data": {
      "image/png": "[encoded data removed]"
     },
     "metadata": {},
     "output_type": "display_data"
    }
   ],
   "source": [
    "%%R\n",
    "\n",
    "df_siena <- df %>% \n",
    "    filter(pollster=='Siena College/The New York Times Upshot',type_detail=='House-G') # Filter data to polls in presidential general elections only\n",
    "\n",
    "# a basic histogram\n",
    "ggplot(df_siena) +\n",
    "    aes(x=bias) +\n",
    "    geom_histogram(bins=80)"
   ]
  },
  {
   "cell_type": "code",
   "execution_count": 42,
   "metadata": {},
   "outputs": [
    {
     "data": {
      "image/png": "[encoded data removed]"
     },
     "metadata": {},
     "output_type": "display_data"
    }
   ],
   "source": [
    "%%R\n",
    "\n",
    "df_siena <- df %>% \n",
    "    filter(pollster=='Siena College/The New York Times Upshot',type_detail=='Pres-G') # Filter data to polls in presidential general elections only\n",
    "\n",
    "# a basic histogram\n",
    "ggplot(df_siena) +\n",
    "    aes(x=bias,y=factor(year)) +\n",
    "    geom_point()"
   ]
  },
  {
   "cell_type": "code",
   "execution_count": null,
   "metadata": {},
   "outputs": [],
   "source": [
    "#here we can see that in 2020, most of the polls show bias to democrats.\n",
    "\n",
    "#In 2020, they were close to being accurate on the General Presidential elections."
   ]
  },
  {
   "cell_type": "code",
   "execution_count": null,
   "metadata": {},
   "outputs": [],
   "source": []
  },
  {
   "cell_type": "markdown",
   "metadata": {},
   "source": [
    "👉 **Jayhawk Consulting**"
   ]
  },
  {
   "cell_type": "code",
   "execution_count": 41,
   "metadata": {},
   "outputs": [
    {
     "data": {
      "image/png": "[encoded data removed]"
     },
     "metadata": {},
     "output_type": "display_data"
    }
   ],
   "source": [
    "%%R\n",
    "\n",
    "df_siena <- df %>% \n",
    "    filter(pollster=='Jayhawk Consulting',type_detail=='Pres-G') # Filter data to polls in presidential general elections only\n",
    "\n",
    "# a basic histogram\n",
    "ggplot(df_siena) +\n",
    "    aes(x=bias,y=factor(year)) +\n",
    "    geom_point()"
   ]
  },
  {
   "cell_type": "code",
   "execution_count": null,
   "metadata": {},
   "outputs": [],
   "source": []
  },
  {
   "cell_type": "code",
   "execution_count": null,
   "metadata": {},
   "outputs": [],
   "source": []
  },
  {
   "cell_type": "code",
   "execution_count": null,
   "metadata": {},
   "outputs": [],
   "source": []
  },
  {
   "cell_type": "code",
   "execution_count": null,
   "metadata": {},
   "outputs": [],
   "source": []
  },
  {
   "cell_type": "code",
   "execution_count": null,
   "metadata": {},
   "outputs": [],
   "source": []
  },
  {
   "cell_type": "code",
   "execution_count": null,
   "metadata": {},
   "outputs": [],
   "source": []
  },
  {
   "cell_type": "markdown",
   "metadata": {},
   "source": [
    "👉 **Fox News/Beacon Research/Shaw & Co. Research**"
   ]
  },
  {
   "cell_type": "code",
   "execution_count": null,
   "metadata": {},
   "outputs": [],
   "source": []
  },
  {
   "cell_type": "code",
   "execution_count": null,
   "metadata": {},
   "outputs": [],
   "source": []
  },
  {
   "cell_type": "markdown",
   "metadata": {},
   "source": [
    "👉 **Brown University**"
   ]
  },
  {
   "cell_type": "code",
   "execution_count": null,
   "metadata": {},
   "outputs": [],
   "source": []
  },
  {
   "cell_type": "code",
   "execution_count": null,
   "metadata": {},
   "outputs": [],
   "source": []
  },
  {
   "cell_type": "markdown",
   "metadata": {},
   "source": [
    "👉 **American Research Group**"
   ]
  },
  {
   "cell_type": "code",
   "execution_count": null,
   "metadata": {},
   "outputs": [],
   "source": []
  },
  {
   "cell_type": "code",
   "execution_count": null,
   "metadata": {},
   "outputs": [],
   "source": []
  },
  {
   "cell_type": "markdown",
   "metadata": {},
   "source": [
    "### Question 2: Which pollsters are the most accurate? Which are the least accurate?"
   ]
  },
  {
   "cell_type": "markdown",
   "metadata": {},
   "source": [
    "👉 Which pollsters are the most accurate?"
   ]
  },
  {
   "cell_type": "code",
   "execution_count": null,
   "metadata": {},
   "outputs": [],
   "source": []
  },
  {
   "cell_type": "code",
   "execution_count": null,
   "metadata": {},
   "outputs": [],
   "source": []
  },
  {
   "cell_type": "code",
   "execution_count": null,
   "metadata": {},
   "outputs": [],
   "source": []
  },
  {
   "cell_type": "markdown",
   "metadata": {},
   "source": [
    "👉 Which are the least accurate?"
   ]
  },
  {
   "cell_type": "code",
   "execution_count": null,
   "metadata": {},
   "outputs": [],
   "source": []
  },
  {
   "cell_type": "code",
   "execution_count": null,
   "metadata": {},
   "outputs": [],
   "source": []
  },
  {
   "cell_type": "code",
   "execution_count": null,
   "metadata": {},
   "outputs": [],
   "source": []
  },
  {
   "cell_type": "markdown",
   "metadata": {},
   "source": [
    "### Question 2 Reflections"
   ]
  },
  {
   "cell_type": "markdown",
   "metadata": {},
   "source": [
    "👉 Write a summary paragraph explaining how you decided what constitutes “most accurate” and \"least accurate\"?\n"
   ]
  },
  {
   "cell_type": "code",
   "execution_count": null,
   "metadata": {},
   "outputs": [],
   "source": []
  },
  {
   "cell_type": "markdown",
   "metadata": {},
   "source": [
    "👉 In bullet point form, name **methodological choices** you made in the process of determining which pollsters were the most and least accurate.\n"
   ]
  },
  {
   "cell_type": "code",
   "execution_count": null,
   "metadata": {},
   "outputs": [],
   "source": []
  },
  {
   "cell_type": "markdown",
   "metadata": {},
   "source": [
    "👉 In bullet point form, list the **limitations** of your approach \n"
   ]
  },
  {
   "cell_type": "code",
   "execution_count": null,
   "metadata": {},
   "outputs": [],
   "source": []
  }
 ],
 "metadata": {
  "kernelspec": {
   "display_name": "Python 3 (ipykernel)",
   "language": "python",
   "name": "python3"
  },
  "language_info": {
   "codemirror_mode": {
    "name": "ipython",
    "version": 3
   },
   "file_extension": ".py",
   "mimetype": "text/x-python",
   "name": "python",
   "nbconvert_exporter": "python",
   "pygments_lexer": "ipython3",
   "version": "3.11.0rc2"
  },
  "vscode": {
   "interpreter": {
    "hash": "34166945ca6cc351f9d38b360afe1a928411c84fd696a9e2d08d61ef3f7e4692"
   }
  }
 },
 "nbformat": 4,
 "nbformat_minor": 4
}
